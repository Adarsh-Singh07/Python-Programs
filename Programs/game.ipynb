{
 "cells": [
  {
   "cell_type": "code",
   "execution_count": null,
   "metadata": {
    "vscode": {
     "languageId": "plaintext"
    }
   },
   "outputs": [],
   "source": [
    "import gradio as gr\n",
    "import random\n",
    "\n",
    "word_list = [\"apple\", \"banana\", \"orange\", \"sun\", \"sky\", \"cloud\", \"tree\", \"flower\", \"water\", \"fire\"]\n",
    "current_word = random.choice(word_list)\n",
    "player_score = 0\n",
    "\n",
    "def play_round(word):\n",
    "    global current_word, player_score\n",
    "    if word.lower() == current_word:\n",
    "        player_score += 1\n",
    "        return f\"Correct! Your score is {player_score}. Next word:\", random.choice(word_list)\n",
    "    else:\n",
    "        return f\"Oops! Try again. Your score is {player_score}.\", current_word\n",
    "\n",
    "with gr.Blocks() as demo:\n",
    "    gr.Markdown(\"## Word Association Game\")\n",
    "    score_text = gr.Textbox(value=f\"Your score is {player_score}\", label=\"Score\")\n",
    "    word_input = gr.Textbox(label=\"Enter a word associated with:\")\n",
    "    word_output = gr.Textbox(value=current_word, label=\"Current Word\")\n",
    "    btn = gr.Button(\"Submit\")\n",
    "    btn.click(play_round, inputs=word_input, outputs=[word_output, score_text])\n",
    "\n",
    "demo.launch()\n"
   ]
  }
 ],
 "metadata": {
  "language_info": {
   "name": "python"
  }
 },
 "nbformat": 4,
 "nbformat_minor": 2
}
